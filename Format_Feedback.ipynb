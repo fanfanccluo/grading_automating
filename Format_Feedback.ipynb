{
  "nbformat": 4,
  "nbformat_minor": 0,
  "metadata": {
    "colab": {
      "provenance": [],
      "include_colab_link": true
    },
    "kernelspec": {
      "name": "python3",
      "display_name": "Python 3"
    },
    "language_info": {
      "name": "python"
    }
  },
  "cells": [
    {
      "cell_type": "markdown",
      "metadata": {
        "id": "view-in-github",
        "colab_type": "text"
      },
      "source": [
        "<a href=\"https://colab.research.google.com/github/fanfanccluo/grading_automating/blob/main/Format_Feedback.ipynb\" target=\"_parent\"><img src=\"https://colab.research.google.com/assets/colab-badge.svg\" alt=\"Open In Colab\"/></a>"
      ]
    },
    {
      "cell_type": "code",
      "source": [
        "from google.colab import auth\n",
        "from google.auth import default\n",
        "import gspread\n",
        "\n",
        "# Authenticate.\n",
        "auth.authenticate_user()\n",
        "creds, _ = default()\n",
        "gc = gspread.authorize(creds)"
      ],
      "metadata": {
        "id": "QFz69VKSl5Qb"
      },
      "execution_count": null,
      "outputs": []
    },
    {
      "cell_type": "markdown",
      "source": [
        "Template as copied from Github:"
      ],
      "metadata": {
        "id": "HeLoZpQVnp2T"
      }
    },
    {
      "cell_type": "code",
      "source": [
        "template = r\"\"\"\n",
        "# Project Proposal Feedback\n",
        "\n",
        "## Score (out of 9 pts)\n",
        "\n",
        "Score = [overall_score]\n",
        "\n",
        "\n",
        "## Feedback:\n",
        "\n",
        "|                       | **Quality** | **Reasons** |\n",
        "|-----------------------|-------------|-------------|\n",
        "| **Research question** | [rq_score]            | [rq_feedback]            |\n",
        "| **Background**        | [background_score]            | [background_feedback]            |\n",
        "| **Hypothesis**        | [hypothesis_score]            | [hypothesis_feedback]            |\n",
        "| **Data**              | [data_score]            | [data_feedback]            |\n",
        "| **Ethics**            | [ethics_score]            | [ethics_feedback]            |\n",
        "| **Team expectations** | [te_score]            | [te_feedback]            |\n",
        "| **Timeline**          | [timeline_score]            | [timeline_feedback]            |\n",
        "\n",
        "\n",
        "## Rubric\n",
        "\n",
        "**Scoring:** Out of $9$ points\n",
        "\n",
        "- Each Developing => $-0.75$ pts\n",
        "- Each Unsatisfactory/Missing => $-1.5$ pts\n",
        "\t- until the score is 0\n",
        "\n",
        "If students address the detailed feedback in a future checkpoint, they will **earn these points back**.\n",
        "\n",
        "|                   | Unsatisfactory                                                                                                                                                                                                                                                                                    | Developing                                                                                                                                                                                                                                                                                                                                   | Proficient                                                                                                                                                                                                                                                    | Excellent                                                                                                                                                                                                                                                                                                                      |\n",
        "|-------------------|---------------------------------------------------------------------------------------------------------------------------------------------------------------------------------------------------------------------------------------------------------------------------------------------------|----------------------------------------------------------------------------------------------------------------------------------------------------------------------------------------------------------------------------------------------------------------------------------------------------------------------------------------------|---------------------------------------------------------------------------------------------------------------------------------------------------------------------------------------------------------------------------------------------------------------|--------------------------------------------------------------------------------------------------------------------------------------------------------------------------------------------------------------------------------------------------------------------------------------------------------------------------------|\n",
        "| Research question | The research issue remains unclear. The research purpose, questions, hypotheses, definitions variables, and controls are still largely undefined, or when they are poorly formed, ambiguous, or not logically connected to the description of the problem. Unclear connections to the literature. | The research issue is identified, but the statement is too broad or fails to establish the importance of the problem. The research purpose, questions, hypotheses, definitions or variables, and controls are poorly formed, ambiguous, or not logically connected to the description of the problem. Unclear connections to the literature. | Identifies a relevant research issue. Research questions are succinctly stated, connected to the research issue, and supported by the literature. Variables and controls have been identified and described. Connections are established with the literature. | Presents a significant research problem. Articulates clear, reasonable research questions given the purpose, design, and methods of the project. All variables and controls have been appropriately defined. Proposals are clearly supported by the research and theoretical literature. All elements are mutually supportive. |\n",
        "| Background        | Did not have at least 2 reliable and relevant sources. Or relevant sources were not used in relevant ways                                                                                                                                                                                         | A key component was not connected to the research literature. Selected literature was from unreliable sources. Literary supports were vague or ambiguous.                                                                                                                                                                                    | Key research components were connected to relevant, reliable theoretical and research literature.                                                                                                                                                             | The narrative integrates critical and logical details from the peer-reviewed theoretical and research literature. Each key research component is grounded in the literature. Attention is given to different perspectives, threats to validity, and opinion vs. evidence.                                                      |\n",
        "| Hypothesis        | Lacks most details; vague or interpretable in different ways. Or seems completely unrealistic.                                                                                                                                                                                                    | A key detail to understand the hypothesis or the rationale behind it was not described well enough                                                                                                                                                                                                                                           | The hypothesis is clear. All elements needed to understand the rationale were described in sufficient detail                                                                                                                                                  | The hypothesis and its rationale were described succinctly and with clarity about how they are connected to each other                                                                                                                                                                                                         |\n",
        "| Data              | Did not describe ideal dataset fully AND does not include at least one reference to an external source of data.                                                                                                                                                                         | Either does not describe the ideal dataset fully AND does not include at least one reference to an external source of data that could be used to answer the proposed question.                                                                                                                                                                                                                                                            | Ideal dataset(s) well-described and includes everything needed for answering question(s) posed. Includes at least one reference to a source of data that would be needed to fully answer the question proposed.                                                                                                                                                            | Ideal dataset(s) well-described and includes everything needed for answering question(s) posed. Includes references to all sources of data that would be needed to fully answer the question proposed. The details of the descriptions also make it clear how they support the needs of the project and discuss the differences betweeen the ideal and real datasets.                                                                                                                       |\n",
        "| Ethics            | No effort or just says we have no ethical concerns                                                                                                                                                                                                                                                | Minimal ethical section; probably just talks about data privacy and no unintended consequences discussion. Ethical concerns raised seem irrelevant.                                                                                                                                                                                          | The ethical concerns described are appropriate and sufficiently                                                                                                                                                                                               | Ethical concerns are described clearly and succinctly. This was clearly a thorough and nuanced approach to the issues                                                                                                                                                                                                          |\n",
        "| Team expectations | Lack of expectations                                                                                                                                                                                                                                                                              | The list of expectations feels incomplete and perfunctory                                                                                                                                                                                                                                                                                    | It feels like the list of expectations is complete and seems appropriate                                                                                                                                                                                      | The list clearly was the subject of a thoughtful approach and already indicates a well-working team                                                                                                                                                                                                                            |\n",
        "| Timeline          | Lack of timeline. Or timeline is completely unrealistic                                                                                                                                                                                                                                           | The timeline feels incomplete and perfunctory. The timeline feels either too fast or too slow for the progress you expect a group can make                                                                                                                                                                                                   | It feels like the timeline is complete and appropriate. it can likely be completed as is in the available amount of time                                                                                                                                      | The timeline was clearly the subject of a thoughtful approach and indicates that the team has a detailed plan that seems appropriate and completeable in the allotted time.                                                                                                                                                    |\n",
        "\n",
        "\n",
        "## Comments\n",
        "\n",
        "\"\"\""
      ],
      "metadata": {
        "id": "4fgzorhinpXD"
      },
      "execution_count": null,
      "outputs": []
    },
    {
      "cell_type": "markdown",
      "source": [
        "Enter your sheet info here:"
      ],
      "metadata": {
        "id": "QQvLCaYFnVzV"
      }
    },
    {
      "cell_type": "code",
      "source": [
        "# ID as in url; see https://developers.google.com/sheets/api/guides/concepts.\n",
        "SHEET_ID = '1Nb2_FBBUIBaAIiX-C8aa5k8Egb8EgFZA-qsTTx1_igQ'\n",
        "SHEET_NAME = 'Proposal 133-155, 158'\n",
        "SHEET_RANGE = 'A1:I24'"
      ],
      "metadata": {
        "id": "8PUQqVDonVgQ"
      },
      "execution_count": null,
      "outputs": []
    },
    {
      "cell_type": "code",
      "source": [
        "# Load sheet.\n",
        "spreadsheet = gc.open_by_key(SHEET_ID)\n",
        "worksheet = spreadsheet.worksheet(SHEET_NAME)\n",
        "data = worksheet.get(SHEET_RANGE)\n",
        "# Check row 0 is correct.\n",
        "assert data[0][:9] == ['Group',\n",
        "  'Research question',\n",
        "  'Background',\n",
        "  'Hypothesis',\n",
        "  'Data',\n",
        "  'Ethics',\n",
        "  'Team expectations',\n",
        "  'Timeline',\n",
        "  'Scores']\n",
        "\n",
        "# Return score, and then all cell data except the first word (which should be\n",
        "# unsatisfactory/developing/proficient/excellent).\n",
        "def parse_cell(cell):\n",
        "    if cell.lower().startswith('unsatisfactory'):\n",
        "        return 'Unsatisfactory', ' '.join(cell.split()[1:])\n",
        "    elif cell.lower().startswith('developing'):\n",
        "        return 'Developing', ' '.join(cell.split()[1:])\n",
        "    elif cell.lower().startswith('proficient'):\n",
        "        return 'Proficient', ' '.join(cell.split()[1:])\n",
        "    elif cell.lower().startswith('excellent'):\n",
        "        return 'Excellent', ' '.join(cell.split()[1:])\n",
        "    else:\n",
        "        raise Exception('Cannot parse score.')"
      ],
      "metadata": {
        "id": "8Vw9cg-hmqGS"
      },
      "execution_count": null,
      "outputs": []
    },
    {
      "cell_type": "code",
      "source": [
        "GROUP_NUMBER = 152\n",
        "\n",
        "for r in data[1:]:\n",
        "    # Only for the selected group.\n",
        "    if int(r[0]) == int(GROUP_NUMBER):\n",
        "        to_print = template\n",
        "        # Research question.\n",
        "        score, feedback = parse_cell(r[1])\n",
        "        to_print = to_print.replace('[rq_score]', score)\n",
        "        to_print = to_print.replace('[rq_feedback]', feedback)\n",
        "        # Background.\n",
        "        score, feedback = parse_cell(r[2])\n",
        "        to_print = to_print.replace('[background_score]', score)\n",
        "        to_print = to_print.replace('[background_feedback]', feedback)\n",
        "        # Hypothesis.\n",
        "        score, feedback = parse_cell(r[3])\n",
        "        to_print = to_print.replace('[hypothesis_score]', score)\n",
        "        to_print = to_print.replace('[hypothesis_feedback]', feedback)\n",
        "        # Data.\n",
        "        score, feedback = parse_cell(r[4])\n",
        "        to_print = to_print.replace('[data_score]', score)\n",
        "        to_print = to_print.replace('[data_feedback]', feedback)\n",
        "        # Ethics.\n",
        "        score, feedback = parse_cell(r[5])\n",
        "        to_print = to_print.replace('[ethics_score]', score)\n",
        "        to_print = to_print.replace('[ethics_feedback]', feedback)\n",
        "        # Team expectations.\n",
        "        score, feedback = parse_cell(r[6])\n",
        "        to_print = to_print.replace('[te_score]', score)\n",
        "        to_print = to_print.replace('[te_feedback]', feedback)\n",
        "        # Timeline.\n",
        "        score, feedback = parse_cell(r[7])\n",
        "        to_print = to_print.replace('[timeline_score]', score)\n",
        "        to_print = to_print.replace('[timeline_feedback]', feedback)\n",
        "        # Overall.\n",
        "        score = str(r[8]).strip()\n",
        "        to_print = to_print.replace('[overall_score]', score)\n",
        "        print(to_print)\n",
        "        break"
      ],
      "metadata": {
        "colab": {
          "base_uri": "https://localhost:8080/"
        },
        "id": "irhn1ASBpEbQ",
        "outputId": "6d31072b-962e-445b-9804-14facd6a9929"
      },
      "execution_count": null,
      "outputs": [
        {
          "output_type": "stream",
          "name": "stdout",
          "text": [
            "\n",
            "# Project Proposal Feedback\n",
            "\n",
            "## Score (out of 9 pts)\n",
            "\n",
            "Score = 3\n",
            "\n",
            "\n",
            "## Feedback:\n",
            "\n",
            "|                       | **Quality** | **Reasons** |\n",
            "|-----------------------|-------------|-------------|\n",
            "| **Research question** | Proficient            | Formatting issues make your submission very difficult to read. Which city, and why have you chosen that city?            |\n",
            "| **Background**        | Unsatisfactory            | Formatting issue. You need a greater description of previous work and more citations.            |\n",
            "| **Hypothesis**        | Developing            | Formatting issues. Some spelling errors. How do you define good or bad weather?            |\n",
            "| **Data**              | Unsatisfactory            | Formatting issues. Spelling errors. Why do you need to restrict your ideal dataset to a single metropolitan city? What sort of weather variables would you want (temperature, precipitation, etc.)? Do you think info at the level of a city is granular enough to answer your question? Weather can vary across a city. You need real data that you could use for this project.            |\n",
            "| **Ethics**            | Unsatisfactory            | This section is absent            |\n",
            "| **Team expectations** | Developing            | Formatting Issue. How will you handle communication or conflict.            |\n",
            "| **Timeline**          | Proficient            | Formatting Issue.            |\n",
            "\n",
            "\n",
            "## Rubric\n",
            "\n",
            "**Scoring:** Out of $9$ points\n",
            "\n",
            "- Each Developing => $-0.75$ pts\n",
            "- Each Unsatisfactory/Missing => $-1.5$ pts\n",
            "\t- until the score is 0\n",
            "\n",
            "If students address the detailed feedback in a future checkpoint, they will **earn these points back**.\n",
            "\n",
            "|                   | Unsatisfactory                                                                                                                                                                                                                                                                                    | Developing                                                                                                                                                                                                                                                                                                                                   | Proficient                                                                                                                                                                                                                                                    | Excellent                                                                                                                                                                                                                                                                                                                      |\n",
            "|-------------------|---------------------------------------------------------------------------------------------------------------------------------------------------------------------------------------------------------------------------------------------------------------------------------------------------|----------------------------------------------------------------------------------------------------------------------------------------------------------------------------------------------------------------------------------------------------------------------------------------------------------------------------------------------|---------------------------------------------------------------------------------------------------------------------------------------------------------------------------------------------------------------------------------------------------------------|--------------------------------------------------------------------------------------------------------------------------------------------------------------------------------------------------------------------------------------------------------------------------------------------------------------------------------|\n",
            "| Research question | The research issue remains unclear. The research purpose, questions, hypotheses, definitions variables, and controls are still largely undefined, or when they are poorly formed, ambiguous, or not logically connected to the description of the problem. Unclear connections to the literature. | The research issue is identified, but the statement is too broad or fails to establish the importance of the problem. The research purpose, questions, hypotheses, definitions or variables, and controls are poorly formed, ambiguous, or not logically connected to the description of the problem. Unclear connections to the literature. | Identifies a relevant research issue. Research questions are succinctly stated, connected to the research issue, and supported by the literature. Variables and controls have been identified and described. Connections are established with the literature. | Presents a significant research problem. Articulates clear, reasonable research questions given the purpose, design, and methods of the project. All variables and controls have been appropriately defined. Proposals are clearly supported by the research and theoretical literature. All elements are mutually supportive. |\n",
            "| Background        | Did not have at least 2 reliable and relevant sources. Or relevant sources were not used in relevant ways                                                                                                                                                                                         | A key component was not connected to the research literature. Selected literature was from unreliable sources. Literary supports were vague or ambiguous.                                                                                                                                                                                    | Key research components were connected to relevant, reliable theoretical and research literature.                                                                                                                                                             | The narrative integrates critical and logical details from the peer-reviewed theoretical and research literature. Each key research component is grounded in the literature. Attention is given to different perspectives, threats to validity, and opinion vs. evidence.                                                      |\n",
            "| Hypothesis        | Lacks most details; vague or interpretable in different ways. Or seems completely unrealistic.                                                                                                                                                                                                    | A key detail to understand the hypothesis or the rationale behind it was not described well enough                                                                                                                                                                                                                                           | The hypothesis is clear. All elements needed to understand the rationale were described in sufficient detail                                                                                                                                                  | The hypothesis and its rationale were described succinctly and with clarity about how they are connected to each other                                                                                                                                                                                                         |\n",
            "| Data              | Did not describe ideal dataset fully AND does not include at least one reference to an external source of data.                                                                                                                                                                         | Either does not describe the ideal dataset fully AND does not include at least one reference to an external source of data that could be used to answer the proposed question.                                                                                                                                                                                                                                                            | Ideal dataset(s) well-described and includes everything needed for answering question(s) posed. Includes at least one reference to a source of data that would be needed to fully answer the question proposed.                                                                                                                                                            | Ideal dataset(s) well-described and includes everything needed for answering question(s) posed. Includes references to all sources of data that would be needed to fully answer the question proposed. The details of the descriptions also make it clear how they support the needs of the project and discuss the differences betweeen the ideal and real datasets.                                                                                                                       |\n",
            "| Ethics            | No effort or just says we have no ethical concerns                                                                                                                                                                                                                                                | Minimal ethical section; probably just talks about data privacy and no unintended consequences discussion. Ethical concerns raised seem irrelevant.                                                                                                                                                                                          | The ethical concerns described are appropriate and sufficiently                                                                                                                                                                                               | Ethical concerns are described clearly and succinctly. This was clearly a thorough and nuanced approach to the issues                                                                                                                                                                                                          |\n",
            "| Team expectations | Lack of expectations                                                                                                                                                                                                                                                                              | The list of expectations feels incomplete and perfunctory                                                                                                                                                                                                                                                                                    | It feels like the list of expectations is complete and seems appropriate                                                                                                                                                                                      | The list clearly was the subject of a thoughtful approach and already indicates a well-working team                                                                                                                                                                                                                            |\n",
            "| Timeline          | Lack of timeline. Or timeline is completely unrealistic                                                                                                                                                                                                                                           | The timeline feels incomplete and perfunctory. The timeline feels either too fast or too slow for the progress you expect a group can make                                                                                                                                                                                                   | It feels like the timeline is complete and appropriate. it can likely be completed as is in the available amount of time                                                                                                                                      | The timeline was clearly the subject of a thoughtful approach and indicates that the team has a detailed plan that seems appropriate and completeable in the allotted time.                                                                                                                                                    |\n",
            "\n",
            "\n",
            "## Comments\n",
            "\n",
            "\n"
          ]
        }
      ]
    },
    {
      "cell_type": "code",
      "source": [
        "# Print the issues URL for the group. Copy the text above to the desired issue.\n",
        "print(f'https://github.com/COGS108/Group{str(135).zfill(3)}_WI25/issues')"
      ],
      "metadata": {
        "colab": {
          "base_uri": "https://localhost:8080/"
        },
        "id": "aJGKH6SXs7n6",
        "outputId": "eb8ce953-e9e4-4abc-d853-e9df7791a366"
      },
      "execution_count": null,
      "outputs": [
        {
          "output_type": "stream",
          "name": "stdout",
          "text": [
            "https://github.com/COGS108/Group135_WI25/issues\n"
          ]
        }
      ]
    },
    {
      "cell_type": "code",
      "source": [],
      "metadata": {
        "id": "haRSdTW_0Xp1"
      },
      "execution_count": null,
      "outputs": []
    }
  ]
}